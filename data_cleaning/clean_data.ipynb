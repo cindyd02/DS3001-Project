{
 "cells": [
  {
   "cell_type": "code",
   "execution_count": 3,
   "metadata": {},
   "outputs": [],
   "source": [
    "import pandas as pd\n",
    "\n",
    "df = pd.read_csv(\"../Crime_Data_from_2020_to_Present_20241208.csv\")"
   ]
  },
  {
   "cell_type": "code",
   "execution_count": 4,
   "metadata": {},
   "outputs": [
    {
     "name": "stdout",
     "output_type": "stream",
     "text": [
      "Crime Category\n",
      "Theft                     411474\n",
      "Assault                   195408\n",
      "Burglary                  124127\n",
      "Vandalism                  85226\n",
      "Robbery                    36926\n",
      "Criminal Threat            33946\n",
      "Other                      32860\n",
      "Sexual Offense             22969\n",
      "Court Issued Violation     21264\n",
      "Trespassing                18330\n",
      "Name: count, dtype: int64\n"
     ]
    },
    {
     "data": {
      "text/plain": [
       "Crm Cd Desc\n",
       "OTHER MISCELLANEOUS CRIME                                   6870\n",
       "DISCHARGE FIREARMS/SHOTS FIRED                              2651\n",
       "ARSON                                                       2531\n",
       "EXTORTION                                                   1987\n",
       "CRM AGNST CHLD (13 OR UNDER) (14-15 & SUSP 10 YRS OLDER)    1796\n",
       "FAILURE TO YIELD                                            1677\n",
       "SHOTS FIRED AT INHABITED DWELLING                           1635\n",
       "DISTURBING THE PEACE                                        1497\n",
       "CHILD NEGLECT (SEE 300 W.I.C.)                              1178\n",
       "CHILD ANNOYING (17YRS & UNDER)                              1037\n",
       "RESISTING ARREST                                            1033\n",
       "KIDNAPPING                                                   799\n",
       "THROWING OBJECT AT MOVING VEHICLE                            788\n",
       "ORAL COPULATION                                              715\n",
       "STALKING                                                     636\n",
       "UNAUTHORIZED COMPUTER ACCESS                                 518\n",
       "SHOTS FIRED AT MOVING VEHICLE, TRAIN OR AIRCRAFT             468\n",
       "BOMB SCARE                                                   467\n",
       "CHILD STEALING                                               446\n",
       "PEEPING TOM                                                  378\n",
       "Name: count, dtype: int64"
      ]
     },
     "execution_count": 4,
     "metadata": {},
     "output_type": "execute_result"
    }
   ],
   "source": [
    "def categorize_crime(crime_desc):\n",
    "    categories = {\n",
    "        'Theft': ['theft', 'stolen', 'pickpocket'],\n",
    "        'Sexual Offense': ['rape', 'sex', 'lewd', 'exposure'],\n",
    "        'Court Issued Violation': ['court', 'restraining'],\n",
    "        'Burglary': ['burglary'],\n",
    "        'Murder': ['murder', 'homicide'],\n",
    "        'Assault': ['assault'],\n",
    "        'Vandalism': ['vandalism'],\n",
    "        'Robbery': ['robbery'],\n",
    "        'Trespassing': ['trespassing'],\n",
    "        'Battery': ['battery'],\n",
    "        'Criminal Threat': ['threat', 'brandish']\n",
    "    }\n",
    "    \n",
    "    crime_desc_lower = crime_desc.lower()\n",
    "    \n",
    "    for category, keywords in categories.items():\n",
    "        if any(keyword in crime_desc_lower for keyword in keywords):\n",
    "            return category\n",
    "    \n",
    "    return 'Other'\n",
    "\n",
    "df['Crime Category'] = df['Crm Cd Desc'].apply(categorize_crime)\n",
    "\n",
    "print(df['Crime Category'].value_counts().head(10))\n",
    "\n",
    "df[df['Crime Category'] == 'Other']['Crm Cd Desc'].value_counts().head(20)"
   ]
  }
 ],
 "metadata": {
  "kernelspec": {
   "display_name": "2002env",
   "language": "python",
   "name": "venv"
  },
  "language_info": {
   "codemirror_mode": {
    "name": "ipython",
    "version": 3
   },
   "file_extension": ".py",
   "mimetype": "text/x-python",
   "name": "python",
   "nbconvert_exporter": "python",
   "pygments_lexer": "ipython3",
   "version": "3.12.6"
  }
 },
 "nbformat": 4,
 "nbformat_minor": 2
}
